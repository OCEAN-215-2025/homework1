{
 "cells": [
  {
   "cell_type": "markdown",
   "id": "f07650f5-48d2-4cd3-b832-2569237fc7af",
   "metadata": {},
   "source": [
    "# Homework 1"
   ]
  },
  {
   "cell_type": "markdown",
   "id": "45cebd4e-9d70-4a20-8041-ff09e743cc6a",
   "metadata": {
    "tags": []
   },
   "source": [
    "**Due Date: Friday October 10 @ 11:59 PM** \n",
    "\n",
    "**Regrade Request Due Date: Friday October 24 @ 11:59 PM** \n",
    "\n",
    "**Objective:** This assignment will give you experience using a Jupyter notebook to write text and code, including variables, mathematical operations, string, and list manipulations.\n",
    "\n",
    "**Full score**: 50 points"
   ]
  },
  {
   "cell_type": "markdown",
   "id": "43cdbcfd-a325-44cf-815c-0ab6899717a1",
   "metadata": {
    "tags": []
   },
   "source": [
    "## **Instructions:**\n",
    "    \n",
    "### Submitting to GradeScope\n",
    "\n",
    "1. Make sure your code fully runs before uploading to Gradescope. The best way to do this is by restarting your kernel, running through each of your cells, and checking for errors.\n",
    "\n",
    "2. When you're sure that your code fully runs, save your notebook file. \n",
    "\n",
    "3. Download your notebook file to your local computer by right clicking the file in the left panel. \n",
    "\n",
    "4. Go to the Homework 1 Assignment in Gradescope and upload your file. You can resubmit as many times as you want before the deadline.\n",
    "\n",
    "### Working in your Notebook\n",
    "\n",
    "1. Read the instructions to each question and its subsections carefully, and make sure to write your answers in the *specified area*. Typically, you will see a comment indicating where you should put your solutions. You are welcome to insert however many blocks of code below the starting block to complete your task\n",
    "\n",
    "2. Sometimes starter code are provided to you. In general, *unless stated otherwise*, you are welcomed to (and sometimes required to!) modify the content of the starter code.\n",
    "\n",
    "3. **Make sure you follow the coding etiquette, since part of your grade is based on it.** As a reminder, you should (i) use meaningful variable names, (ii) organize your codes into logical blocks, and (iii) document the intent of your code. On average, we expects you to have a line of comment every 5 - 15 lines of code.\n",
    "\n",
    "### Honor Code\n",
    "\n",
    "- Complete the assignment by writing and executing text and code cells as specified. For this assignment, do not use any features of Python that have not yet been discussed in the lessons or class sessions.\n",
    "\n",
    "- Please keep in mind our regrade request and dropped homework grading policy. Late assignments are not accepted. Review the syllabus for details. \n",
    "\n",
    "- You can acknowledge and describe any assistance you've received on this assignment in the specified cell of the HW1 notebook, whether that was from an instructor, classmate (either directly or on Ed Discussion), and/or online resources. Alternatively, if you prefer, you may acknowledge assistance at the relevant point(s) in your code using a Python comment (#). Don't forget that you can receive extra credit from answering at least one question on Ed Discussion!"
   ]
  },
  {
   "cell_type": "markdown",
   "id": "01b69088-d81b-493d-9b1b-250a5cdcf5f1",
   "metadata": {
    "tags": []
   },
   "source": [
    "*Acknowledge assistance here or in comments above your code:*\n",
    "\n",
    "\n",
    "\n"
   ]
  },
  {
   "cell_type": "markdown",
   "id": "bda9b131-16e7-473a-903b-debdff40ab68",
   "metadata": {
    "deletable": false,
    "editable": false
   },
   "source": [
    "<!-- BEGIN QUESTION -->\n",
    "\n",
    "## Question 1 (8 points)"
   ]
  },
  {
   "cell_type": "markdown",
   "id": "121506f0-9580-47fc-9ad9-2dba830b87b4",
   "metadata": {
    "deletable": false,
    "editable": false
   },
   "source": [
    "Although the goal of OCEAN 215 is not to teach \"data science\" per se, we hope this course will give you a window into the possibilities offered by data analysis. To get you start thinking about data in the context of oceanography, answer each of the following the question below in 2-3 sentences. There is no wrong answer, but please respond thoughtfully.\n",
    "\n",
    "> a)  What data have you generated (or are currently generating) that may be analyzed by a data scientist at some point? This can be related to Oceanography but does not have to be. Examples may include class, research, or personal projects/experiments. (4 points)\n",
    "\n",
    "> b) Big data is defined as extremely large and complex datasets that are difficult to manage. Can you think of an oceanography dataset that could be considered \"big data\"? Why do you think it would be classified as such? (4 points)\n",
    "\n",
    "----"
   ]
  },
  {
   "cell_type": "markdown",
   "id": "14f63e2f-a9fe-4b5f-8efa-2c6c19a15672",
   "metadata": {
    "tags": [
     "otter_answer_cell"
    ]
   },
   "source": [
    "Part (a): _Type your answers here, replacing this text_"
   ]
  },
  {
   "cell_type": "markdown",
   "id": "d2519c58-1aa7-44d2-a3ef-26a10bb1982f",
   "metadata": {
    "tags": [
     "otter_answer_cell"
    ]
   },
   "source": [
    "Part (b): _Type your answers here, replacing this text_"
   ]
  },
  {
   "cell_type": "markdown",
   "id": "8df93a67-f87f-4d55-9e5e-e2cbee2ef547",
   "metadata": {
    "deletable": false,
    "editable": false
   },
   "source": [
    "<!-- END QUESTION -->\n",
    "\n",
    "## Question 2 (10 points)"
   ]
  },
  {
   "cell_type": "markdown",
   "id": "3745a1ab-2904-4ea1-bd1a-6d4d0cf0379d",
   "metadata": {},
   "source": [
    "In clear, pelagic water the photic zone (the maximum depth where photosynthesis can occur) can extend to 200 meters depth. \n",
    "\n",
    "Diatoms are a type of phytoplankon (plankton that photosynthesize for energy). They must remain near the ocean surface in the photic zone to photosynthesize. To do this, they regulate their bouyancy to sink as slowly as possible. \n",
    "\n",
    "A small diatom might sink 0.25 feet/day, while a large one might sink 8.9 feet/day."
   ]
  },
  {
   "cell_type": "markdown",
   "id": "2de4c28c-7a57-4e42-a242-c05d4eb5de98",
   "metadata": {
    "deletable": false,
    "editable": false
   },
   "source": [
    "<!-- BEGIN QUESTION -->\n",
    "\n",
    "### Part a (5 points)"
   ]
  },
  {
   "cell_type": "markdown",
   "id": "bf88d453-9f6d-4ac9-8136-9923d742a27f",
   "metadata": {
    "deletable": false,
    "editable": false
   },
   "source": [
    "The code below is supposed to compute the sinking rate of diatom in unit of meter per day. In the cell below, define the appropriate variables so that the computation will be correct.\n",
    "\n",
    "**Note**: You should also execute the cells already provided to you, and make sure that the final results are printed out via the `print()` statements\n",
    "\n",
    "----"
   ]
  },
  {
   "cell_type": "code",
   "execution_count": null,
   "id": "373aaaef-a5d9-462a-a7cb-946678348b57",
   "metadata": {
    "tags": [
     "otter_answer_cell"
    ]
   },
   "outputs": [],
   "source": [
    "# Your answers here"
   ]
  },
  {
   "cell_type": "code",
   "execution_count": null,
   "id": "35efe840-fb1a-46f2-a254-6db30776c9a0",
   "metadata": {
    "editable": false,
    "slideshow": {
     "slide_type": ""
    },
    "tags": [
     "otter_answer_cell"
    ]
   },
   "outputs": [],
   "source": [
    "# DO NOT MODIFY!\n",
    "# conversion factor for ft to m\n",
    "ft_to_m = 0.3048"
   ]
  },
  {
   "cell_type": "code",
   "execution_count": null,
   "id": "7d071140-6834-4f44-b4aa-ed19c9138270",
   "metadata": {
    "editable": false,
    "slideshow": {
     "slide_type": ""
    },
    "tags": [
     "otter_answer_cell"
    ]
   },
   "outputs": [],
   "source": [
    "# DO NOT MODIFY!\n",
    "# calculate sinking rate in m/day\n",
    "sinking_small_m = sinking_small_ft * ft_to_m\n",
    "sinking_large_m = sinking_large_ft * ft_to_m"
   ]
  },
  {
   "cell_type": "code",
   "execution_count": null,
   "id": "eccdb4ba-312e-4f53-bb3d-7600e96250cf",
   "metadata": {
    "editable": false,
    "slideshow": {
     "slide_type": ""
    },
    "tags": [
     "otter_answer_cell"
    ]
   },
   "outputs": [],
   "source": [
    "# DO NOT MODIFY!\n",
    "# print out sinking rate\n",
    "print(\"Sinking rate for small diatom is \" + str(round(sinking_small_m, 4)) + \" m/day\")\n",
    "print(\"Sinking rate for large diatom is \" + str(round(sinking_large_m, 4)) + \" m/day\")"
   ]
  },
  {
   "cell_type": "markdown",
   "id": "34d13f4a-c62f-4c28-bac9-9b0ac8a061fe",
   "metadata": {
    "deletable": false,
    "editable": false
   },
   "source": [
    "<!-- END QUESTION -->\n",
    "\n",
    "<!-- BEGIN QUESTION -->\n",
    "\n",
    "### Part b (5 points)"
   ]
  },
  {
   "cell_type": "markdown",
   "id": "eddf8170-2cb5-4b91-a0d5-c57a08b3cbbf",
   "metadata": {
    "deletable": false,
    "editable": false
   },
   "source": [
    "Calculate the number of days (as floating point number) a diatom will stay in the photic zone if it starts out at the surface (d = 0 m) and sinks at the rate calculated in part (a). **Print out** (via `print()`) your answer, **with units**, in similar manner as in part (a). Make sure you do the calculation for **both** the small and large diatoms.\n",
    "\n",
    "----"
   ]
  },
  {
   "cell_type": "code",
   "execution_count": null,
   "id": "ff87a3e6-acf5-47ac-a493-07f0d89d6633",
   "metadata": {
    "deletable": false,
    "editable": false,
    "slideshow": {
     "slide_type": ""
    },
    "tags": []
   },
   "outputs": [],
   "source": [
    "# DO NOT MODIFY!\n",
    "# Photic depth in meters\n",
    "photic_depth = 200"
   ]
  },
  {
   "cell_type": "code",
   "execution_count": null,
   "id": "2b7d664d-7038-43b1-b787-fbbce018cc7a",
   "metadata": {
    "editable": true,
    "slideshow": {
     "slide_type": ""
    },
    "tags": [
     "otter_answer_cell"
    ]
   },
   "outputs": [],
   "source": [
    "# Your answers here"
   ]
  },
  {
   "cell_type": "markdown",
   "id": "e18a1678-a733-4a3a-acf8-18cdd7d38ef5",
   "metadata": {
    "deletable": false,
    "editable": false
   },
   "source": [
    "<!-- END QUESTION -->\n",
    "\n",
    "## Question 3 (20 points)"
   ]
  },
  {
   "cell_type": "markdown",
   "id": "fcccb5ad-ed46-42bc-8fd4-2df0b31237e8",
   "metadata": {},
   "source": [
    "New Orleans, Louisiana is a city located on the Gulf of Mexico where diurnal tides (one high tide and one low tide every ~24 hours) dominate. The lists below contain the dates, high tide times, low tide times, high tide heights (in feet), and low tide heights (in feet) for tidal forcasts for the week of Oct. 1 - Oct 8, 2024. The lists are each the same length, with each index corresponding to a single day."
   ]
  },
  {
   "cell_type": "code",
   "execution_count": null,
   "id": "da6cf41d-dfe6-41ee-a245-990b6ed01e57",
   "metadata": {
    "editable": false,
    "slideshow": {
     "slide_type": ""
    },
    "tags": []
   },
   "outputs": [],
   "source": [
    "# DO NOT MODIFY!\n",
    "dates = ['October 1','October 2','October 3','October 4','October 5','October 6','October 7','October 8']\n",
    "high_times = ['5:49AM','4:17AM','3:53AM','3:56AM','4:13AM','4:40AM','5:14AM','5:56AM']\n",
    "low_times = ['8:49AM','10:55AM','12:15PM','1:22PM', None,'3:32PM','4:42PM','5:52PM']\n",
    "high_measurement_feet = [0.9, 1.0, 1.2, 1.3, 1.4, 1.5, 1.6, 1.7]\n",
    "low_measurement_feet =  [-0.9, -0.8, -0.7, -0.6, None, 0.4, 0.4, 0.3]"
   ]
  },
  {
   "cell_type": "markdown",
   "id": "50818adf-8645-4f14-8446-4d8e97b56091",
   "metadata": {
    "deletable": false,
    "editable": false
   },
   "source": [
    "<!-- BEGIN QUESTION -->\n",
    "\n",
    "### Part a (5 points)"
   ]
  },
  {
   "cell_type": "markdown",
   "id": "47cc9284-02d7-4eba-9194-474a21e77121",
   "metadata": {
    "deletable": false,
    "editable": false
   },
   "source": [
    "Find the **index** of the element in the `dates` list that has the value \"October 6\". Use the resulting index to extract the high tide and low tide of that day. Print out (via `print()`) the results, and make sure that you **included units.**\n",
    "\n",
    "----"
   ]
  },
  {
   "cell_type": "code",
   "execution_count": null,
   "id": "039c8c86-a6ff-4dad-b734-03ac298814d0",
   "metadata": {
    "tags": [
     "otter_answer_cell"
    ]
   },
   "outputs": [],
   "source": [
    "# Your answers here"
   ]
  },
  {
   "cell_type": "markdown",
   "id": "e6bc6002-ebc1-4ccb-b9c5-87428b28eb26",
   "metadata": {
    "deletable": false,
    "editable": false
   },
   "source": [
    "<!-- END QUESTION -->\n",
    "\n",
    "<!-- BEGIN QUESTION -->\n",
    "\n",
    "### Part b (5 points)"
   ]
  },
  {
   "cell_type": "markdown",
   "id": "92f652f7-215f-419c-951c-7b70446b6355",
   "metadata": {
    "deletable": false,
    "editable": false
   },
   "source": [
    "As usual, the average of a sequence $(x_1, \\ldots, x_n)$ is $\\overline{x} = (x_1 + ... + x_n) / n$\n",
    "\n",
    "**Using a for loop**, calculate the average high tide over the duration of the data. Using `print()` to print out your results, **with units**.\n",
    "\n",
    "----"
   ]
  },
  {
   "cell_type": "code",
   "execution_count": null,
   "id": "56a75c45-a0a4-4ffd-9eec-bcde17e1809a",
   "metadata": {
    "tags": [
     "otter_answer_cell"
    ]
   },
   "outputs": [],
   "source": [
    "# Your answers here"
   ]
  },
  {
   "cell_type": "markdown",
   "id": "154e48d9-c673-4f4a-bbaa-837ec121e11f",
   "metadata": {
    "deletable": false,
    "editable": false
   },
   "source": [
    "<!-- END QUESTION -->\n",
    "\n",
    "<!-- BEGIN QUESTION -->\n",
    "\n",
    "### Part c (10 points)"
   ]
  },
  {
   "cell_type": "markdown",
   "id": "1ffcff02-f20e-4bf7-b69c-aec577391a5e",
   "metadata": {
    "deletable": false,
    "editable": false
   },
   "source": [
    "**Using a for loop**, find the lowest low tide over the duration of the data. Using `print()` to print out your results, **with units**.\n",
    "\n",
    "**Hint #1**: Create a variable that represents the current best candidate for the lowest low tide and use your loop to modify its value if needed. By the end of the loop this variable will be the value of the lowest low tide. You can initize the candidate with, e.g., the first element of `low_measurement_feet`\n",
    "\n",
    "**Hint #2**: There is an entry in `low_measurement_feet` with a `None` value. You will want **skip your check** when the value of the entry is `None`\n",
    "\n",
    "----"
   ]
  },
  {
   "cell_type": "markdown",
   "id": "38f61273",
   "metadata": {
    "tags": [
     "otter_answer_cell"
    ]
   },
   "source": [
    "_Type your answer here, replacing this text._"
   ]
  },
  {
   "cell_type": "code",
   "execution_count": null,
   "id": "a67f84d9-e45d-4326-9b2e-635e2fe5cd65",
   "metadata": {
    "tags": [
     "otter_answer_cell"
    ]
   },
   "outputs": [],
   "source": [
    "# Your answers here"
   ]
  },
  {
   "cell_type": "markdown",
   "id": "b446fb38-64bb-45b6-b4a5-f072583b6dc9",
   "metadata": {
    "deletable": false,
    "editable": false
   },
   "source": [
    "<!-- END QUESTION -->\n",
    "\n",
    "<!-- BEGIN QUESTION -->\n",
    "\n",
    "## Question 4 (10 points)"
   ]
  },
  {
   "cell_type": "markdown",
   "id": "21c55230-c6ad-463c-9a75-5b29275832d3",
   "metadata": {
    "deletable": false,
    "editable": false
   },
   "source": [
    "The average water temperature at Port Townsend over the week of Sep 15 - 22, 2024 is recorded below. The data is computed from averaging over measurements over the course of the day, and the status flag indicates the quality of raw data"
   ]
  },
  {
   "cell_type": "code",
   "execution_count": null,
   "id": "520ab54b-6c44-49fc-863f-de2839241d2d",
   "metadata": {
    "deletable": false,
    "editable": false,
    "slideshow": {
     "slide_type": ""
    },
    "tags": []
   },
   "outputs": [],
   "source": [
    "# DO NOT MODIFY!\n",
    "dates = [\"Sep 15\", \"Sep 16\", \"Sep 17\", \"Sep 18\", \"Sep 19\", \"Sep 20\", \"Sep 21\", \"Sep 22\"]\n",
    "Wtemp_C = [11.30, 11.24, 11.38, 11.16, 11.19, 11.12, 11.19, 11.16]\n",
    "status = [\"good\", \"moderate\", \"good\", \"good\", \"poor\", \"good\", \"good\", \"moderate\"]"
   ]
  },
  {
   "cell_type": "markdown",
   "id": "817c1ab9-6697-41b9-aaad-01466556b755",
   "metadata": {
    "deletable": false,
    "editable": false
   },
   "source": [
    "The code below is supposed to filter in only the dates where data quality is good or moderate, then store the results in the variable `dates_OK`. However, the code as-is is incorrect. Your task is to **modify** (in-place) the code to make it works as intended.\n",
    "\n",
    "Then, in the markdown cell provided, **identify** if the error is a _runtime error_ or a _logic error_, and **describe** the strategy you used to discover the error.\n",
    "\n",
    "----"
   ]
  },
  {
   "cell_type": "markdown",
   "id": "761435a3",
   "metadata": {
    "tags": [
     "otter_answer_cell"
    ]
   },
   "source": [
    "_Type your answer here, replacing this text._"
   ]
  },
  {
   "cell_type": "code",
   "execution_count": null,
   "id": "2d07dcd7-5cfa-4811-86c6-b2ddc3254cc4",
   "metadata": {
    "editable": true,
    "slideshow": {
     "slide_type": ""
    },
    "tags": [
     "otter_answer_cell"
    ]
   },
   "outputs": [],
   "source": [
    "# MODIFY this cell\n",
    "dates_OK = []\n",
    "for i, date in enumerate(dates):\n",
    "    if (status[i] == \"moderate\" or \"good\"):\n",
    "        dates_OK.append(date)"
   ]
  },
  {
   "cell_type": "markdown",
   "id": "bcf31a71-a9e1-42ca-9d45-cab5a9703071",
   "metadata": {
    "deletable": false,
    "editable": false
   },
   "source": [
    "<!-- END QUESTION -->\n",
    "\n",
    "## Check that your codes run without errors (2 points)"
   ]
  },
  {
   "cell_type": "markdown",
   "id": "c9be7e81-96e0-4e7e-91fb-9b6c803a222b",
   "metadata": {
    "deletable": false,
    "editable": false,
    "otter": {
     "tests": [
      "completion"
     ]
    }
   },
   "source": [
    "Please check that your code runs without error when the notebook is executed from top to bottom. You may find the \"Restart the kernel and run all cells\" option (selectable using the `⏩` icon) useful."
   ]
  },
  {
   "cell_type": "code",
   "execution_count": null,
   "id": "369fb830-1c2b-43c7-bb23-f9dfdd8c1b81",
   "metadata": {},
   "outputs": [],
   "source": []
  }
 ],
 "metadata": {
  "kernelspec": {
   "display_name": "Python 3 (ipykernel)",
   "language": "python",
   "name": "python3"
  },
  "language_info": {
   "codemirror_mode": {
    "name": "ipython",
    "version": 3
   },
   "file_extension": ".py",
   "mimetype": "text/x-python",
   "name": "python",
   "nbconvert_exporter": "python",
   "pygments_lexer": "ipython3",
   "version": "3.11.13"
  },
  "otter": {
   "OK_FORMAT": true,
   "tests": {
    "completion": {
     "name": "completion",
     "points": 0,
     "suites": [
      {
       "cases": [],
       "scored": true,
       "setup": "",
       "teardown": "",
       "type": "doctest"
      }
     ]
    }
   }
  }
 },
 "nbformat": 4,
 "nbformat_minor": 5
}
